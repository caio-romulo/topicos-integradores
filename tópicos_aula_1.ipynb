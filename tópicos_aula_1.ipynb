{
  "nbformat": 4,
  "nbformat_minor": 0,
  "metadata": {
    "colab": {
      "name": "tópicos aula 1.ipynb",
      "version": "0.3.2",
      "provenance": [],
      "collapsed_sections": [],
      "include_colab_link": true
    },
    "kernelspec": {
      "name": "python3",
      "display_name": "Python 3"
    }
  },
  "cells": [
    {
      "cell_type": "markdown",
      "metadata": {
        "id": "view-in-github",
        "colab_type": "text"
      },
      "source": [
        "<a href=\"https://colab.research.google.com/github/caio-romulo/topicos-integradores/blob/master/t%C3%B3picos_aula_1.ipynb\" target=\"_parent\"><img src=\"https://colab.research.google.com/assets/colab-badge.svg\" alt=\"Open In Colab\"/></a>"
      ]
    },
    {
      "cell_type": "code",
      "metadata": {
        "id": "ephX-beXKuEo",
        "colab_type": "code",
        "colab": {
          "base_uri": "https://localhost:8080/",
          "height": 51
        },
        "outputId": "b92b04c8-6b1c-49eb-ddab-11a374f44c5a"
      },
      "source": [
        "def main():\n",
        "  n = int(input(\"digite o valor de n:\") )\n",
        "  fat = 1\n",
        "  i = 2\n",
        "  while i <= n:\n",
        "    fat = fat*i\n",
        "    i = i + 1\n",
        "    \n",
        "  print (\"o valor de %d! eh  =\" %n, fat)\n",
        "main()"
      ],
      "execution_count": 50,
      "outputs": [
        {
          "output_type": "stream",
          "text": [
            "digite o valor de n:5\n",
            "o valor de 5! eh  = 120\n"
          ],
          "name": "stdout"
        }
      ]
    },
    {
      "cell_type": "code",
      "metadata": {
        "id": "CxVXjO4JKvUm",
        "colab_type": "code",
        "colab": {
          "base_uri": "https://localhost:8080/",
          "height": 68
        },
        "outputId": "eb1f5585-eef9-482a-d773-5a4efc70279c"
      },
      "source": [
        "num = int(input('qual o numero???\\n'))\n",
        "\n",
        "if int (num) % 2 == 0:\n",
        "  print (\"o numero imformado e par\")\n",
        "else:\n",
        "  print (\"o numero imformado e impar\")"
      ],
      "execution_count": 41,
      "outputs": [
        {
          "output_type": "stream",
          "text": [
            "qual o numero???\n",
            "5\n",
            "o numero imformado e impar\n"
          ],
          "name": "stdout"
        }
      ]
    },
    {
      "cell_type": "code",
      "metadata": {
        "id": "veSfzhiQLdaR",
        "colab_type": "code",
        "colab": {
          "base_uri": "https://localhost:8080/",
          "height": 51
        },
        "outputId": "5933292c-7eda-4627-c3bf-5392293ce354"
      },
      "source": [
        "n = int(input(\"digite o valor de n:\"))\n",
        "a = 0\n",
        "b = 1\n",
        "c = 2\n",
        "d = 0\n",
        "while d<n :\n",
        "  a =a+1\n",
        "  b =b+1\n",
        "  c =c+1\n",
        "  d =a*b*c\n",
        "if d==n:\n",
        "  print (\"esse numero e triangular\")\n",
        "else:\n",
        "  print (\"esse numero não e triangula\")\n",
        "  \n",
        "  "
      ],
      "execution_count": 48,
      "outputs": [
        {
          "output_type": "stream",
          "text": [
            "digite o valor de n:800\n",
            "esse numero não e triangula\n"
          ],
          "name": "stdout"
        }
      ]
    },
    {
      "cell_type": "code",
      "metadata": {
        "id": "mmq7pMauPGL6",
        "colab_type": "code",
        "colab": {
          "base_uri": "https://localhost:8080/",
          "height": 129
        },
        "outputId": "d36f79bd-390c-43fb-b9c6-860945c23504"
      },
      "source": [
        "def moda(dados):\n",
        "  rep = 0\n",
        "  \n",
        "  for i in dados:\n",
        "    n = dados.count(i)\n",
        "    nf > rep:\n",
        "      rep = n\n",
        "      \n",
        "  \n",
        "  moda = []\n",
        "  \n",
        "  for i in dados:\n",
        "    n = dados.count(i)\n",
        "    nf == rep and i não e moda:\n",
        "      moda.append(i)\n",
        "  \n",
        "  if len(moda) != len(dados):\n",
        "    print ('moda' , moda)\n",
        "  \n",
        "  else:\n",
        "    print (\"não e moda\")\n",
        "  "
      ],
      "execution_count": 51,
      "outputs": [
        {
          "output_type": "error",
          "ename": "SyntaxError",
          "evalue": "ignored",
          "traceback": [
            "\u001b[0;36m  File \u001b[0;32m\"<ipython-input-51-eebe1f742d13>\"\u001b[0;36m, line \u001b[0;32m6\u001b[0m\n\u001b[0;31m    nf > rep:\u001b[0m\n\u001b[0m             ^\u001b[0m\n\u001b[0;31mSyntaxError\u001b[0m\u001b[0;31m:\u001b[0m invalid syntax\n"
          ]
        }
      ]
    },
    {
      "cell_type": "code",
      "metadata": {
        "id": "_gcetffUWs5T",
        "colab_type": "code",
        "colab": {}
      },
      "source": [
        ""
      ],
      "execution_count": 0,
      "outputs": []
    }
  ]
}