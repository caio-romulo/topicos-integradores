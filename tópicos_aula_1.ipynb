{
  "nbformat": 4,
  "nbformat_minor": 0,
  "metadata": {
    "colab": {
      "name": "tópicos aula 1.ipynb",
      "version": "0.3.2",
      "provenance": [],
      "collapsed_sections": [],
      "include_colab_link": true
    },
    "kernelspec": {
      "name": "python3",
      "display_name": "Python 3"
    }
  },
  "cells": [
    {
      "cell_type": "markdown",
      "metadata": {
        "id": "view-in-github",
        "colab_type": "text"
      },
      "source": [
        "<a href=\"https://colab.research.google.com/github/caio-romulo/topicos-integradores/blob/master/t%C3%B3picos_aula_1.ipynb\" target=\"_parent\"><img src=\"https://colab.research.google.com/assets/colab-badge.svg\" alt=\"Open In Colab\"/></a>"
      ]
    },
    {
      "cell_type": "code",
      "metadata": {
        "id": "ephX-beXKuEo",
        "colab_type": "code",
        "outputId": "b92b04c8-6b1c-49eb-ddab-11a374f44c5a",
        "colab": {
          "base_uri": "https://localhost:8080/",
          "height": 51
        }
      },
      "source": [
        "def main():\n",
        "  n = int(input(\"digite o valor de n:\") )\n",
        "  fat = 1\n",
        "  i = 2\n",
        "  while i <= n:\n",
        "    fat = fat*i\n",
        "    i = i + 1\n",
        "    \n",
        "  print (\"o valor de %d! eh  =\" %n, fat)\n",
        "main()"
      ],
      "execution_count": 0,
      "outputs": [
        {
          "output_type": "stream",
          "text": [
            "digite o valor de n:5\n",
            "o valor de 5! eh  = 120\n"
          ],
          "name": "stdout"
        }
      ]
    },
    {
      "cell_type": "code",
      "metadata": {
        "id": "CxVXjO4JKvUm",
        "colab_type": "code",
        "outputId": "eb1f5585-eef9-482a-d773-5a4efc70279c",
        "colab": {
          "base_uri": "https://localhost:8080/",
          "height": 68
        }
      },
      "source": [
        "num = int(input('qual o numero???\\n'))\n",
        "\n",
        "if int (num) % 2 == 0:\n",
        "  print (\"o numero imformado e par\")\n",
        "else:\n",
        "  print (\"o numero imformado e impar\")"
      ],
      "execution_count": 0,
      "outputs": [
        {
          "output_type": "stream",
          "text": [
            "qual o numero???\n",
            "5\n",
            "o numero imformado e impar\n"
          ],
          "name": "stdout"
        }
      ]
    },
    {
      "cell_type": "code",
      "metadata": {
        "id": "veSfzhiQLdaR",
        "colab_type": "code",
        "outputId": "5933292c-7eda-4627-c3bf-5392293ce354",
        "colab": {
          "base_uri": "https://localhost:8080/",
          "height": 51
        }
      },
      "source": [
        "n = int(input(\"digite o valor de n:\"))\n",
        "a = 0\n",
        "b = 1\n",
        "c = 2\n",
        "d = 0\n",
        "while d<n :\n",
        "  a =a+1\n",
        "  b =b+1\n",
        "  c =c+1\n",
        "  d =a*b*c\n",
        "if d==n:\n",
        "  print (\"esse numero e triangular\")\n",
        "else:\n",
        "  print (\"esse numero não e triangula\")\n",
        "  \n",
        "  "
      ],
      "execution_count": 0,
      "outputs": [
        {
          "output_type": "stream",
          "text": [
            "digite o valor de n:800\n",
            "esse numero não e triangula\n"
          ],
          "name": "stdout"
        }
      ]
    },
    {
      "cell_type": "code",
      "metadata": {
        "id": "_gcetffUWs5T",
        "colab_type": "code",
        "colab": {
          "base_uri": "https://localhost:8080/",
          "height": 34
        },
        "outputId": "854e0b70-c4ce-4e8d-f207-ce77297a9eab"
      },
      "source": [
        "def moda(lista):\n",
        "  cont = 0\n",
        "  moda = 0\n",
        "  sorted(lista)\n",
        "  for i in range (0,len(lista)-1):\n",
        "    if lista[i] == lista[i+1]:\n",
        "      cont = cont+1\n",
        "      moda = lista[i]\n",
        "    else:\n",
        "      cont = 0\n",
        "  print(moda)\n",
        "\n",
        "def main():\n",
        "  lista = [5,2,2,2,4,5,4,5,5]\n",
        "  moda(lista)\n",
        "  \n",
        "main()  \n",
        "  \n",
        "  "
      ],
      "execution_count": 1,
      "outputs": [
        {
          "output_type": "stream",
          "text": [
            "5\n"
          ],
          "name": "stdout"
        }
      ]
    }
  ]
}